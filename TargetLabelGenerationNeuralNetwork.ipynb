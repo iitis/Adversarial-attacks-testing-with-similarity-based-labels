{
 "cells": [
  {
   "cell_type": "markdown",
   "id": "0dd3a554-3a50-45ee-8c64-8c63e4c38769",
   "metadata": {},
   "source": [
    "# Effective label choosing strategy based on inter-class similarities\n",
    "\n",
    "Generation of the Least Similar and the Most similar classes to the ground truth labels. Such labels can be used as target labels in targeted and also in gradient-based non-targeted attacks (when minimization is used to compute the image perturbations). \n",
    "\n",
    "Class Similarity Matrix based on example model's weights."
   ]
  },
  {
   "cell_type": "code",
   "execution_count": 1,
   "id": "54a66c4f-b464-470d-a77a-37f4c745becf",
   "metadata": {},
   "outputs": [],
   "source": [
    "import matplotlib.pyplot as plt\n",
    "import numpy as np\n",
    "from tensorflow.keras.applications.imagenet_utils import decode_predictions\n",
    "from nltk.corpus import wordnet as wn\n",
    "import nltk\n",
    "from tensorflow.keras.applications.imagenet_utils import decode_predictions\n",
    "from keras.utils import to_categorical\n",
    "from sklearn.metrics.pairwise import cosine_similarity\n",
    "\n",
    "# example model from Keras Applications (other models are compatible):\n",
    "from tensorflow.keras.applications import MobileNetV2"
   ]
  },
  {
   "cell_type": "markdown",
   "id": "c74a4723-d300-47b0-9088-600a1bc4b43a",
   "metadata": {},
   "source": [
    "Below, we create the Class Similarity Matrix based on example model's weights for ImageNet classes."
   ]
  },
  {
   "cell_type": "code",
   "execution_count": 2,
   "id": "e73742d2-e08a-423f-bd3c-12d2fc57cfa5",
   "metadata": {},
   "outputs": [],
   "source": [
    "# reading a model:\n",
    "model = MobileNetV2(\n",
    "    include_top=True,\n",
    "    weights=\"imagenet\",\n",
    "    input_tensor=None,\n",
    "    input_shape=None,\n",
    "    pooling=None,\n",
    "    classes=1000,\n",
    "    classifier_activation=\"softmax\",\n",
    ")\n",
    "\n",
    "class_i = np.moveaxis(model.layers[-1].get_weights()[0], 0, -1)\n",
    "class_j = np.moveaxis(model.layers[-1].get_weights()[0], 0, -1)\n",
    "cs_tab = cosine_similarity(class_i, class_j)\n",
    "\n",
    "# cs_tab - Class Similarity Matrix generated based on model's weights"
   ]
  },
  {
   "cell_type": "markdown",
   "id": "b734b7b7-642b-4141-8238-e95b4e8ab392",
   "metadata": {},
   "source": [
    "Below, we define lists with MS and LS labels for ImageNet. They can be used to find target classes for targeted and non-targeted attacks. Label at index k in each (MS and LS) table corresponds to the most and the least similar class to class k (according to ImageNet labeling - with increasing WordNet 3.0 ids)."
   ]
  },
  {
   "cell_type": "code",
   "execution_count": 3,
   "id": "ed9cf542-738d-4036-ba49-556da539f6bc",
   "metadata": {},
   "outputs": [],
   "source": [
    "MS_labels = np.argsort(-cs_tab)[:, 1]\n",
    "LS_labels = np.argsort(-cs_tab)[:, -1]"
   ]
  },
  {
   "cell_type": "markdown",
   "id": "d0f00ae4-206a-4391-b47d-725485705d7e",
   "metadata": {},
   "source": [
    "Reading the MS and LS target labels based on Sorted Class Similarity Matrix:"
   ]
  },
  {
   "cell_type": "code",
   "execution_count": 4,
   "id": "c8ac245c-50d5-4094-b1cf-cce377ffd9e0",
   "metadata": {},
   "outputs": [],
   "source": [
    "example_label = 3\n",
    "example_labels_MS_class = MS_labels[example_label]\n",
    "example_labels_LS_class = LS_labels[example_label]"
   ]
  },
  {
   "cell_type": "markdown",
   "id": "b8336ad0-89b6-4dad-ad84-f5681a3a3a42",
   "metadata": {},
   "source": [
    "Ground truth label:"
   ]
  },
  {
   "cell_type": "code",
   "execution_count": 5,
   "id": "81cc69f9-8122-4fbc-b37b-b17415dc3c29",
   "metadata": {},
   "outputs": [
    {
     "data": {
      "text/plain": [
       "[[('n01491361', 'tiger_shark', 1.0)]]"
      ]
     },
     "execution_count": 5,
     "metadata": {},
     "output_type": "execute_result"
    }
   ],
   "source": [
    "decode_predictions(to_categorical(np.expand_dims(example_label, axis=-1), num_classes=1000), top=1)"
   ]
  },
  {
   "cell_type": "markdown",
   "id": "a5c80b1a-c921-4c76-a031-01c733636a39",
   "metadata": {},
   "source": [
    "The Most Similar target label (MS label):"
   ]
  },
  {
   "cell_type": "code",
   "execution_count": 6,
   "id": "46a9cd2d-ac84-40ac-8d71-34f71a0e4e79",
   "metadata": {},
   "outputs": [
    {
     "data": {
      "text/plain": [
       "[[('n01484850', 'great_white_shark', 1.0)]]"
      ]
     },
     "execution_count": 6,
     "metadata": {},
     "output_type": "execute_result"
    }
   ],
   "source": [
    "decode_predictions(to_categorical(np.expand_dims(example_labels_MS_class, axis=-1), num_classes=1000), top=1)"
   ]
  },
  {
   "cell_type": "markdown",
   "id": "004bd46a-2458-4bd7-9c38-e7c6c23b91af",
   "metadata": {},
   "source": [
    "The Least Similar target label (LS label):"
   ]
  },
  {
   "cell_type": "code",
   "execution_count": 7,
   "id": "b59d8d23-e18e-4ea9-8bbd-2ebe1688589b",
   "metadata": {},
   "outputs": [
    {
     "data": {
      "text/plain": [
       "[[('n01667778', 'terrapin', 1.0)]]"
      ]
     },
     "execution_count": 7,
     "metadata": {},
     "output_type": "execute_result"
    }
   ],
   "source": [
    "decode_predictions(to_categorical(np.expand_dims(example_labels_LS_class, axis=-1), num_classes=1000), top=1)"
   ]
  },
  {
   "cell_type": "markdown",
   "id": "e2e0dcea-3f09-4ad5-a22f-5f70ee5ab322",
   "metadata": {},
   "source": [
    "Generating target labels for ground truth labels in a non-batch form (1D numpy array):"
   ]
  },
  {
   "cell_type": "code",
   "execution_count": 8,
   "id": "f431677e-6bc4-45b6-83da-c73c6bd0c273",
   "metadata": {},
   "outputs": [],
   "source": [
    "ground_truth_labels = np.array([1,3,5])"
   ]
  },
  {
   "cell_type": "code",
   "execution_count": 9,
   "id": "489198b8-19b1-4531-9e59-33598cfd87f0",
   "metadata": {},
   "outputs": [
    {
     "data": {
      "text/plain": [
       "array([392,   2,   6], dtype=int64)"
      ]
     },
     "execution_count": 9,
     "metadata": {},
     "output_type": "execute_result"
    }
   ],
   "source": [
    "MS_labels[ground_truth_labels]"
   ]
  },
  {
   "cell_type": "markdown",
   "id": "1ab38938-4143-4c77-a0c3-42ed99ede159",
   "metadata": {},
   "source": [
    "Generating target labels for ground truth labels in a batch form:"
   ]
  },
  {
   "cell_type": "code",
   "execution_count": 10,
   "id": "5e9cf034-3a17-474e-8874-8d4fb74289f9",
   "metadata": {},
   "outputs": [],
   "source": [
    "ground_truth_labels = np.expand_dims(np.array([1,3,5]), axis=1)"
   ]
  },
  {
   "cell_type": "code",
   "execution_count": 11,
   "id": "285fc693-362a-4b10-b6a0-82dc77e6d5a4",
   "metadata": {},
   "outputs": [
    {
     "data": {
      "text/plain": [
       "array([[392],\n",
       "       [  2],\n",
       "       [  6]], dtype=int64)"
      ]
     },
     "execution_count": 11,
     "metadata": {},
     "output_type": "execute_result"
    }
   ],
   "source": [
    "MS_labels[ground_truth_labels]"
   ]
  },
  {
   "cell_type": "code",
   "execution_count": null,
   "id": "5a61699e-0957-4269-a7c7-858fb2192774",
   "metadata": {},
   "outputs": [],
   "source": []
  }
 ],
 "metadata": {
  "kernelspec": {
   "display_name": "Python 3 (ipykernel)",
   "language": "python",
   "name": "python3"
  },
  "language_info": {
   "codemirror_mode": {
    "name": "ipython",
    "version": 3
   },
   "file_extension": ".py",
   "mimetype": "text/x-python",
   "name": "python",
   "nbconvert_exporter": "python",
   "pygments_lexer": "ipython3",
   "version": "3.10.9"
  }
 },
 "nbformat": 4,
 "nbformat_minor": 5
}
